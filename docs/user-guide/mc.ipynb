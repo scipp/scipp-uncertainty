{
 "cells": [
  {
   "cell_type": "markdown",
   "id": "56c96f55-5fd4-413a-a16c-3b32adbf8943",
   "metadata": {},
   "source": [
    "# Monte-Carlo propagation of uncertainties\n",
    "\n",
    "This guide introduces the [mc](../reference/index.rst#monte-carlo) sub package for propagation of uncertainties using Monte-Carlo.\n",
    "\n",
    "Monte-Carlo (MC) can propagate uncertainties through most operations including non-differentiable ones and operations that introduce correlations.\n",
    "It does so by sampling new data from an input with uncertainties, performing the desired operation on each sample, and combining the results to compute, e.g., a mean and variance.\n",
    "While this method is powerful, it is very expensive and in practice only applicable to relatively small and well behaved data.\n",
    "\n",
    "In math terms, the `mc` package does the following.\n",
    "The examples below will make the terminology more concrete.\n",
    "\n",
    "Given a measured, empirical distribution of random variables $\\mathbf{X}$, we want to compute some parameter $\\theta$ (the result of our operation).\n",
    "We estimate $\\theta$ using an estimator $s$, such that $\\hat{\\theta} = s(\\mathbf{X})$.\n",
    "We assume all $X_i$ to be **independently** distributed with distribution $X_i = P(\\mu_i, \\sigma_i)$, where $\\mu_i$ and $\\sigma_i$ are the mean and standard deviation of $X_i$.\n",
    "We draw $R$ samples ('replicas') from $P$:\n",
    "$$\n",
    "\\mathbf{x}^\\ast = [x_{i_1}^\\ast,\\, \\dots, x_{i_n}^\\ast], \\quad \\text{where} \\quad x_i^\\ast \\sim X_i = P(\\mu_i, \\sigma_i).\n",
    "$$\n",
    "Then we pass each sample to the estimator $s$ to obtain replicas of the target parameter $\\hat{\\theta}^\\ast = s(\\mathbf{x}^\\ast)$.\n",
    "The final results are then, typically, the mean and variance over all $R$ replicas\n",
    "$$\n",
    "\\mu(\\hat{\\theta}^\\ast) = \\frac{1}{R} \\sum_{r=1}^{R}\\,s(\\mathbf{x}^\\ast_r),\\\\\\\\\n",
    "\\text{var}(\\hat{\\theta}^\\ast) = \\frac{1}{R-1} \\sum_{r=1}^{R}\\,{\\big(s(\\mathbf{x}^\\ast_r) - \\mu(\\hat{\\theta}^\\ast)\\big)}^2\n",
    "$$\n",
    "\n",
    "Let's look at some examples to make this more concrete.\n",
    "Suppose we are given some positions and time information and want to compute the corresponding speeds.\n",
    "We will assume that all input data is independently normally distributed.\n",
    "First, generate some dummy data of positions with uncertainties:"
   ]
  },
  {
   "cell_type": "code",
   "execution_count": null,
   "id": "90121035-36c3-4d6a-8ac3-cb19eef2c6cf",
   "metadata": {},
   "outputs": [],
   "source": [
    "from typing import Dict\n",
    "\n",
    "import numpy as np\n",
    "import plopp as pp\n",
    "import scipp as sc\n",
    "\n",
    "from scippuncertainty import mc\n",
    "\n",
    "pp.patch_scipp()\n",
    "%matplotlib widget\n",
    "\n",
    "rng = np.random.default_rng(3781)\n",
    "n = 100\n",
    "x = sc.linspace(\"x\", 1, 2, n)\n",
    "variances = rng.uniform(0.01, 0.1, n)\n",
    "pos = sc.DataArray(\n",
    "    sc.array(\n",
    "        dims=[\"x\"],\n",
    "        values=x.values + rng.normal(0, np.sqrt(variances)),\n",
    "        variances=variances,\n",
    "        unit=\"m\",\n",
    "    ),\n",
    "    coords={\"x\": x},\n",
    ")\n",
    "pos.plot()"
   ]
  },
  {
   "cell_type": "markdown",
   "id": "a38b40e0-1acb-4295-be8c-e9666644ba83",
   "metadata": {},
   "source": [
    "Configure ScippUncertaintie's logger to get some extra output during this guide."
   ]
  },
  {
   "cell_type": "code",
   "execution_count": null,
   "id": "4a83e049-2ee5-4bfd-b58e-7b467c09c22a",
   "metadata": {
    "tags": []
   },
   "outputs": [],
   "source": [
    "import logging\n",
    "from scippuncertainty.logging import get_logger\n",
    "handler = logging.StreamHandler()\n",
    "handler.setLevel(\"INFO\")\n",
    "get_logger().addHandler(handler)\n",
    "get_logger().setLevel(\"INFO\")"
   ]
  },
  {
   "cell_type": "markdown",
   "id": "5f615f93-680b-4fcf-9274-a2f2c4c9799d",
   "metadata": {},
   "source": [
    "## Equivalent to regular uncertainty propagation\n",
    "\n",
    "In this example, use an array of times without uncertainties:"
   ]
  },
  {
   "cell_type": "code",
   "execution_count": null,
   "id": "d69d0628-5847-4f55-9265-219506a86d60",
   "metadata": {
    "tags": []
   },
   "outputs": [],
   "source": [
    "time = sc.DataArray(sc.linspace(\"x\", 0.1, 10.0, n, unit=\"s\"), coords=pos.coords)"
   ]
  },
  {
   "cell_type": "markdown",
   "id": "4985e00a-1277-4c16-9789-2a22c078aa60",
   "metadata": {},
   "source": [
    "And define a function to compute the speed.\n",
    "This corresponds to the estimator $s$.\n",
    "(You will see below why this returns a `dict`.)"
   ]
  },
  {
   "cell_type": "code",
   "execution_count": null,
   "id": "afe16c9b-04ce-4088-9f3d-f8d831d1b89d",
   "metadata": {
    "tags": []
   },
   "outputs": [],
   "source": [
    "def compute_speed(pos: sc.DataArray, time: sc.DataArray) -> Dict[str, sc.DataArray]:\n",
    "    return {\"speed\": pos / time}"
   ]
  },
  {
   "cell_type": "markdown",
   "id": "3882f319-2e5c-4083-8272-dad8682d5e2c",
   "metadata": {},
   "source": [
    "Given these times and speed calculation, we could do regular error propagation since the input is normally distributed.\n",
    "So we can use this to check if our MC results makes sense."
   ]
  },
  {
   "cell_type": "code",
   "execution_count": null,
   "id": "0266ac9f-4d42-4be8-89c2-e4bb81842b59",
   "metadata": {
    "tags": []
   },
   "outputs": [],
   "source": [
    "speed_regular = compute_speed(pos=pos, time=time)[\"speed\"]"
   ]
  },
  {
   "cell_type": "markdown",
   "id": "8e1fc62c-bc07-420a-887e-e503795db6a6",
   "metadata": {},
   "source": [
    "Now, in order to compute the uncertainties with MC, we need to create a few helper objects.\n",
    "First, define a sampler.\n",
    "This will be used to draw new samples from the input `pos`.\n",
    "Since we assume normally distributed data, we use [NormalDenseSampler](../generated/modules/scippuncertainty.mc.sampler.NormalDenseSampler.rst).\n",
    "This defines the distribution $X_i = P(\\mu_i, \\sigma_i)$."
   ]
  },
  {
   "cell_type": "code",
   "execution_count": null,
   "id": "8975a81d-7b8b-41f5-9793-78208f6701d8",
   "metadata": {
    "tags": []
   },
   "outputs": [],
   "source": [
    "pos_sampler = mc.NormalDenseSampler(pos)"
   ]
  },
  {
   "cell_type": "markdown",
   "id": "e30f3cf8-01bc-44c2-a3e6-aa59caa47cff",
   "metadata": {},
   "source": [
    "Next, we need to define how to collect the replicas and compute an output statistic.\n",
    "In this case, we simply want to compute the mean and variance, so we use [VarianceAccum](../generated/modules/scippuncertainty.mc.accumulator.VarianceAccum.rst)."
   ]
  },
  {
   "cell_type": "code",
   "execution_count": null,
   "id": "f20e9313-c42e-41d0-a72d-82204a183bc8",
   "metadata": {
    "tags": []
   },
   "outputs": [],
   "source": [
    "accumulator = mc.VarianceAccum()"
   ]
  },
  {
   "cell_type": "markdown",
   "id": "35d68fb7-5456-4842-aaf2-1162cf504900",
   "metadata": {},
   "source": [
    "Finally, we can use [mc.run](../generated/modules/scippuncertainty.mc.driver.run.rst) to put everything together and actually perform the MC computation.\n",
    "\n",
    "We pass a `dict` to the samplers that identifies the `pos_sampler` with the `pos` argument of `compute_speed`.\n",
    "The accumulators `dict` defines how to accumulate each output of `compute_speed`.\n",
    "There is only one, but we still have to match the name in the `dict`s  returned by the function with the accumulators.\n",
    "Since `time` has no uncertainties, we simply bind our fixed values using `partial`.\n",
    "\n",
    "`n_samples` corresponds to the number of replicas $R$.\n",
    "It is very high in this case because the computation is quite fast.\n",
    "In practice, numbers in the hundreds are more feasible.\n",
    "Lastly, we disable progress reporting as this does not work reliably in Jupyter."
   ]
  },
  {
   "cell_type": "code",
   "execution_count": null,
   "id": "a02f4f2e-e4ea-4ab5-a643-b89b0dfcead8",
   "metadata": {
    "tags": []
   },
   "outputs": [],
   "source": [
    "from functools import partial\n",
    "\n",
    "results = mc.run(\n",
    "    partial(compute_speed, time=time),\n",
    "    samplers={\"pos\": pos_sampler},\n",
    "    accumulators={\"speed\": accumulator},\n",
    "    n_samples=10000,\n",
    "    progress=False,\n",
    ")\n",
    "speed_mc = results[\"speed\"]"
   ]
  },
  {
   "cell_type": "markdown",
   "id": "b0dd1700-0f27-42dc-bce8-729afa1223e0",
   "metadata": {},
   "source": [
    "Note the log message about the random seed emitted by `mc.run`.\n",
    "You need to save this seed if you want to ever reproduce the calculation.\n",
    "\n",
    "Now compare the results of the two calculations.\n",
    "It looks like MC and 'regular' uncertainty propagation are in agreement."
   ]
  },
  {
   "cell_type": "code",
   "execution_count": null,
   "id": "e7056e81-2da3-4a2f-bcf1-45cc969a2c4c",
   "metadata": {
    "tags": []
   },
   "outputs": [],
   "source": [
    "speed_mc.coords[\"x\"] += 0.01\n",
    "pp.plot({\"regular\": speed_regular, \"mc\": speed_mc}, norm=\"log\")"
   ]
  },
  {
   "cell_type": "markdown",
   "id": "bbd6dc7f-2611-4922-a71e-f7dea2a8bc3e",
   "metadata": {},
   "source": [
    "Also compare the relative errors of both results.\n",
    "Again, there is general agreement as expected.\n",
    "But there are some deviations because there are not enough MC samples to get a higher precision.\n",
    "\n",
    "<div class=\"alert alert-warning\">\n",
    "    \n",
    "**Attention**\n",
    "    \n",
    "Always make sure that your MC has properly converged to the desired precision.\n",
    "</div>"
   ]
  },
  {
   "cell_type": "code",
   "execution_count": null,
   "id": "c3b0d385-6985-49e3-acd2-9432c1b5ad25",
   "metadata": {
    "tags": []
   },
   "outputs": [],
   "source": [
    "def relative_error(da: sc.DataArray) -> sc.DataArray:\n",
    "    return sc.stddevs(da) / abs(sc.values(da))\n",
    "\n",
    "pp.plot({\"regular\": relative_error(speed_regular), \"mc\": relative_error(speed_mc)})"
   ]
  },
  {
   "cell_type": "markdown",
   "id": "55df98d9-0901-4d18-aaf7-ea5ce52acebc",
   "metadata": {},
   "source": [
    "## 2"
   ]
  },
  {
   "cell_type": "code",
   "execution_count": null,
   "id": "247e7275-bcc7-40da-b5f6-78b0db1fae92",
   "metadata": {
    "tags": []
   },
   "outputs": [],
   "source": [
    "time = sc.scalar(2.6, variance=0.4, unit=\"m\")"
   ]
  },
  {
   "cell_type": "code",
   "execution_count": null,
   "id": "0317e5fc-bc10-415d-bdef-5345e4d650a2",
   "metadata": {
    "tags": [
     "raises-exception"
    ]
   },
   "outputs": [],
   "source": [
    "speed_regular = compute_speed(pos=pos, time=time)[\"speed\"]"
   ]
  },
  {
   "cell_type": "code",
   "execution_count": null,
   "id": "fd3e5d5d-404a-44bd-8a0f-3d361ffec33f",
   "metadata": {
    "tags": []
   },
   "outputs": [],
   "source": [
    "speed_regular = compute_speed(pos=pos,\n",
    "                              time=sc.broadcast(time, sizes=pos.sizes).copy())[\"speed\"]"
   ]
  },
  {
   "cell_type": "code",
   "execution_count": null,
   "id": "116bacef-ca3f-4690-a5ec-329d07880e1d",
   "metadata": {
    "tags": []
   },
   "outputs": [],
   "source": [
    "pos_sampler = mc.NormalDenseSampler(pos)\n",
    "time_sampler = mc.NormalDenseSampler(time)"
   ]
  },
  {
   "cell_type": "code",
   "execution_count": null,
   "id": "6ccfdf04-f1f1-4bdf-ac36-b39d5ddae6ab",
   "metadata": {
    "tags": []
   },
   "outputs": [],
   "source": [
    "accumulator = mc.VarianceAccum()"
   ]
  },
  {
   "cell_type": "code",
   "execution_count": null,
   "id": "782ae1c2-748e-4fa2-9a3b-38e548272d5a",
   "metadata": {
    "tags": []
   },
   "outputs": [],
   "source": [
    "results = mc.run(\n",
    "    compute_speed,\n",
    "    samplers={\"pos\": pos_sampler, \"time\": time_sampler},\n",
    "    accumulators={\"speed\": accumulator},\n",
    "    n_samples=10000,\n",
    "    progress=False,\n",
    ")\n",
    "speed_mc = results[\"speed\"]"
   ]
  },
  {
   "cell_type": "code",
   "execution_count": null,
   "id": "31b7bc3f-2d0a-424c-b737-8a0726b00e13",
   "metadata": {
    "tags": []
   },
   "outputs": [],
   "source": [
    "pp.plot({\"regular\": relative_error(speed_regular), \"mc\": relative_error(speed_mc)})"
   ]
  },
  {
   "cell_type": "markdown",
   "id": "f11a0afa-9c95-4ae2-b0b2-e315963a388d",
   "metadata": {},
   "source": [
    "## 3 cov"
   ]
  },
  {
   "cell_type": "code",
   "execution_count": null,
   "id": "777f408d-a7ac-4702-a142-89ec376995bc",
   "metadata": {
    "tags": []
   },
   "outputs": [],
   "source": [
    "pos_sampler = mc.NormalDenseSampler(pos)\n",
    "time_sampler = mc.NormalDenseSampler(time)"
   ]
  },
  {
   "cell_type": "code",
   "execution_count": null,
   "id": "423d3bdc-ff0a-41c6-bd20-93bff4210d18",
   "metadata": {
    "tags": []
   },
   "outputs": [],
   "source": [
    "variance_accumulator = mc.VarianceAccum()\n",
    "covariance_accumulator = mc.CovarianceAccum(dims=(\"x0\", \"x1\"))"
   ]
  },
  {
   "cell_type": "code",
   "execution_count": null,
   "id": "4fd90b82-9ead-4d1f-9041-022bf302f95e",
   "metadata": {
    "tags": []
   },
   "outputs": [],
   "source": [
    "def compute_speed(pos: sc.DataArray, time: sc.DataArray) -> Dict[str, sc.DataArray]:\n",
    "    speed = pos / time\n",
    "    return {\"speed\": speed, \"speed_cov\": speed}"
   ]
  },
  {
   "cell_type": "code",
   "execution_count": null,
   "id": "ac23834c-5f8c-46c8-92f3-321023004dfd",
   "metadata": {
    "tags": []
   },
   "outputs": [],
   "source": [
    "results = mc.run(\n",
    "    compute_speed,\n",
    "    samplers={\"pos\": pos_sampler, \"time\": time_sampler},\n",
    "    accumulators={\"speed\": variance_accumulator,\n",
    "                  \"speed_cov\": covariance_accumulator},\n",
    "    n_samples=10000,\n",
    "    progress=False,\n",
    ")\n",
    "speed_mc = results[\"speed\"]\n",
    "speed_cov = results[\"speed_cov\"]"
   ]
  },
  {
   "cell_type": "code",
   "execution_count": null,
   "id": "5f214c3a-c08c-4cf7-a34e-f9dd1ae2e007",
   "metadata": {
    "tags": []
   },
   "outputs": [],
   "source": [
    "speed_cov.plot()"
   ]
  },
  {
   "cell_type": "code",
   "execution_count": null,
   "id": "c8fd5967-8064-4b4d-978b-685fe9b82c0d",
   "metadata": {
    "tags": []
   },
   "outputs": [],
   "source": [
    "def pearson_correlation(cov: sc.DataArray) -> sc.DataArray:\n",
    "    std0 = sc.sqrt(sc.array(dims=[cov.dims[0]], values=np.diag(cov.values)))\n",
    "    std1 = std0.rename({cov.dims[0]: cov.dims[1]})\n",
    "    return cov / (std0 * std1)"
   ]
  },
  {
   "cell_type": "code",
   "execution_count": null,
   "id": "0a8fc711-b0c4-4168-8e08-4c6de91e3f3b",
   "metadata": {
    "tags": []
   },
   "outputs": [],
   "source": [
    "pearson_correlation(speed_cov).plot(vmin=0.0, vmax=1.0)"
   ]
  },
  {
   "cell_type": "code",
   "execution_count": null,
   "id": "7a6699e8-ff40-4601-8530-2be2a9086604",
   "metadata": {
    "tags": []
   },
   "outputs": [],
   "source": [
    "speed_cov"
   ]
  }
 ],
 "metadata": {
  "kernelspec": {
   "display_name": "Python 3 (ipykernel)",
   "language": "python",
   "name": "python3"
  },
  "language_info": {
   "codemirror_mode": {
    "name": "ipython",
    "version": 3
   },
   "file_extension": ".py",
   "mimetype": "text/x-python",
   "name": "python",
   "nbconvert_exporter": "python",
   "pygments_lexer": "ipython3",
   "version": "3.9.16"
  }
 },
 "nbformat": 4,
 "nbformat_minor": 5
}
